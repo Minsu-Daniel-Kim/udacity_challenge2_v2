{
 "cells": [
  {
   "cell_type": "code",
   "execution_count": 63,
   "metadata": {
    "collapsed": true
   },
   "outputs": [],
   "source": [
    "import tensorflow as tf"
   ]
  },
  {
   "cell_type": "code",
   "execution_count": 117,
   "metadata": {
    "collapsed": true
   },
   "outputs": [],
   "source": [
    "from util.input import inputs"
   ]
  },
  {
   "cell_type": "code",
   "execution_count": 118,
   "metadata": {
    "collapsed": true
   },
   "outputs": [],
   "source": [
    "import os\n",
    "import itertools\n",
    "import tensorflow as tf\n",
    "import numpy as np\n",
    "import pickle\n",
    "from sklearn.model_selection import train_test_split\n",
    "import pandas as pd\n",
    "import cv2\n",
    "import matplotlib.pyplot as plt\n",
    "\n",
    "def make_pickle(imgs, img_names, type):\n",
    "    img_label = {'images': imgs, 'labels': img_names}\n",
    "    pickle.dump(img_label, open(\"data/%s.pkl\" % type, \"wb\"))\n",
    "\n",
    "\n",
    "def _int64_feature(value):\n",
    "    return tf.train.Feature(int64_list=tf.train.Int64List(value=[value]))\n",
    "\n",
    "\n",
    "def _float_feature(value):\n",
    "    return tf.train.Feature(float_list=tf.train.FloatList(value=[value]))\n",
    "\n",
    "\n",
    "def _bytes_feature(value):\n",
    "    return tf.train.Feature(bytes_list=tf.train.BytesList(value=[value]))\n",
    "\n",
    "def adjust_gamma(image, gamma=1.0):\n",
    "    # build a lookup table mapping the pixel values [0, 255] to\n",
    "    # their adjusted gamma values\n",
    "    invGamma = 1.0 / gamma\n",
    "    table = np.array([((i / 255.0) ** invGamma) * 255\n",
    "        for i in np.arange(0, 256)]).astype(\"uint8\")\n",
    "    return cv2.LUT(image, table)\n",
    "\n",
    "def make_tfrecords(images, labels, type):\n",
    "\n",
    "    num_examples = labels.shape[0]\n",
    "\n",
    "    if images.shape[0] != num_examples:\n",
    "        raise ValueError(\"Images size %d does not match label size %d.\" %\n",
    "                         (images.shape[0], num_examples))\n",
    "    rows = images.shape[1]\n",
    "    cols = images.shape[2]\n",
    "    depth = images.shape[3]\n",
    "\n",
    "    directory = \".\"\n",
    "\n",
    "    filename = os.path.join(directory, type + '.tfrecords')\n",
    "    print('Writing', filename)\n",
    "    writer = tf.python_io.TFRecordWriter(filename)\n",
    "    for index in range(len(labels)):\n",
    "        image_raw = images[index].tostring()\n",
    "        example = tf.train.Example(features=tf.train.Features(feature={\n",
    "            'height': _int64_feature(rows),\n",
    "            'width': _int64_feature(cols),\n",
    "            'depth': _int64_feature(depth),\n",
    "            'label': _float_feature(float(labels[index])),\n",
    "            'image_raw': _bytes_feature(image_raw)}))\n",
    "        writer.write(example.SerializeToString())"
   ]
  },
  {
   "cell_type": "code",
   "execution_count": 119,
   "metadata": {
    "collapsed": true
   },
   "outputs": [],
   "source": [
    "CHANNEL = 3\n",
    "HEIGHT = 60\n",
    "WEIGHT = 80"
   ]
  },
  {
   "cell_type": "code",
   "execution_count": 120,
   "metadata": {
    "collapsed": true
   },
   "outputs": [],
   "source": [
    "def label0():\n",
    "    return tf.constant(0)\n",
    "def label1():\n",
    "    return tf.constant(1)\n",
    "def label2():\n",
    "    return tf.constant(2)\n",
    "def label3():\n",
    "    return tf.constant(3)\n",
    "def label4():\n",
    "    return tf.constant(4)\n",
    "def default():\n",
    "    return tf.constant(-1)"
   ]
  },
  {
   "cell_type": "code",
   "execution_count": 157,
   "metadata": {
    "collapsed": true
   },
   "outputs": [],
   "source": [
    "def read_and_decode(filename_queue):\n",
    "    reader = tf.TFRecordReader()\n",
    "    _, serialized_example = reader.read(filename_queue)\n",
    "    features = tf.parse_single_example(\n",
    "        serialized_example,\n",
    "        # Defaults are not specified since both keys are required.\n",
    "        features={\n",
    "            'image_raw': tf.FixedLenFeature([], tf.string),\n",
    "            # 'angle': tf.FixedLenFeature([], tf.float32),\n",
    "#             'label': tf.FixedLenFeature([], tf.int64),\n",
    "            'label': tf.FixedLenFeature([], tf.float32),\n",
    "            'img_name': tf.FixedLenFeature([], tf.string)\n",
    "        })\n",
    "\n",
    "    # Convert from a scalar string tensor (whose single string has\n",
    "    # length mnist.IMAGE_PIXELS) to a uint8 tensor with shape\n",
    "    # [mnist.IMAGE_PIXELS].\n",
    "    image = tf.decode_raw(features['image_raw'], tf.uint8)\n",
    "    img_name = tf.decode_raw(features['img_name'], tf.uint8)\n",
    "#\n",
    "\n",
    "\n",
    "\n",
    "#     img_name = tf.cast(img_name, tf.int64)\n",
    "#     img_name = None\n",
    "    image.set_shape([HEIGHT * WEIGHT * CHANNEL])\n",
    "    image = tf.cast(image, tf.float32) * (1. / 255) - 0.5\n",
    "    image = tf.reshape(image, [HEIGHT, WEIGHT, CHANNEL])\n",
    "    # image = tf.image.resize_images(image, tf.pack(tf.constant(60, dtype=tf.int32), tf.constant(80, dtype=tf.int32)))\n",
    "    \n",
    "    # preprocessing\n",
    "    # image = tf.image.rgb_to_grayscale(image)\n",
    "    # image = tf.image.per_image_standardization(image)\n",
    "    # image = tf.image.per_image_whitening(image)\n",
    "\n",
    "    # Convert label from a scalar uint8 tensor to an int32 scalar.\n",
    "#     angle = tf.cast(features['label'], tf.float32)\n",
    "\n",
    "\n",
    "#     label = tf.cond(tf.less(angle, tf.constant(-0.03966)), label0,\n",
    "#             lambda: tf.cond(tf.less(angle, tf.constant(-0.00698)), label1,\n",
    "#                             lambda: tf.cond(tf.less(angle, tf.constant(0.01266)), label2,\n",
    "#                                             lambda: tf.cond(tf.less(angle, tf.constant(0.04189)), label3, label4))))\n",
    "\n",
    "#     angle = tf.reshape(angle, [1])\n",
    "\n",
    "    label = None\n",
    "    angle = None\n",
    "\n",
    "    # label = None\n",
    "    # label = tf.cond(tf.equal(label, 0), lambda: tf.convert_to_tensor(0), lambda: tf.convert_to_tensor(1))\n",
    "\n",
    "    return image, angle, label, img_name"
   ]
  },
  {
   "cell_type": "code",
   "execution_count": 158,
   "metadata": {
    "collapsed": true
   },
   "outputs": [],
   "source": [
    "TRAIN_DIR = \"data\""
   ]
  },
  {
   "cell_type": "code",
   "execution_count": 159,
   "metadata": {
    "collapsed": true
   },
   "outputs": [],
   "source": [
    "def aggregate_dataset(direction, dataset, dataset_subset='all'):\n",
    "\n",
    "    \"\"\"\n",
    "        direction = ['left', 'center', 'right']\n",
    "        dataset = ['original', 'flip', 'contrast', 'flip_contrast']\n",
    "        dataset_subset = 'all' or ['train','val']\n",
    "\n",
    "        return {}\n",
    "    \"\"\"\n",
    "    train_lst = []\n",
    "    test_lst = []\n",
    "    validation_lst = []\n",
    "\n",
    "    def get_subset_lst(subset):\n",
    "        subste_list = []\n",
    "        for a, b in list(itertools.product(direction, dataset)):\n",
    "            folders = [folder for folder in os.listdir(TRAIN_DIR) if folder.startswith(\"udacity\")]\n",
    "            for folder in folders:\n",
    "\n",
    "                try:\n",
    "                    dir = TRAIN_DIR + \"/\" + folder + \"/%s/%s\" % (a, b)\n",
    "                    train = [dir + \"/\" + file for file in os.listdir(dir) if subset in file]\n",
    "                    subste_list += train\n",
    "                except:\n",
    "                    pass\n",
    "        return [subset, subste_list]\n",
    "\n",
    "    train_lst = np.array(train_lst)\n",
    "    test_lst = np.array(test_lst)\n",
    "    validation_lst = np.array(validation_lst)\n",
    "\n",
    "    if dataset_subset is 'all':\n",
    "        dataset_subset = ['train', 'test', 'validation']\n",
    "\n",
    "    total_dict = {}\n",
    "    for subset in dataset_subset:\n",
    "        total_dict[get_subset_lst(subset)[0]] = get_subset_lst(subset)[1]\n",
    "\n",
    "    return total_dict"
   ]
  },
  {
   "cell_type": "code",
   "execution_count": 160,
   "metadata": {
    "collapsed": false
   },
   "outputs": [],
   "source": [
    "\n",
    "filename = aggregate_dataset(['center'], ['contrast'], ['train'])['train']\n",
    "filename = [\"data/submission_test.tfrecords\"]"
   ]
  },
  {
   "cell_type": "code",
   "execution_count": 161,
   "metadata": {
    "collapsed": false
   },
   "outputs": [
    {
     "ename": "InvalidArgumentError",
     "evalue": "Name: <unknown>, Feature: label is required but could not be found.\n\t [[Node: input_36/ParseSingleExample/ParseExample/ParseExample = ParseExample[Ndense=3, Nsparse=0, Tdense=[DT_STRING, DT_STRING, DT_FLOAT], dense_shapes=[[], [], []], sparse_types=[], _device=\"/job:localhost/replica:0/task:0/cpu:0\"](input_36/ParseSingleExample/ExpandDims, input_36/ParseSingleExample/ParseExample/ParseExample/names, input_36/ParseSingleExample/ParseExample/ParseExample/dense_keys_0, input_36/ParseSingleExample/ParseExample/ParseExample/dense_keys_1, input_36/ParseSingleExample/ParseExample/ParseExample/dense_keys_2, input_36/ParseSingleExample/ParseExample/Const, input_36/ParseSingleExample/ParseExample/Const_1, input_36/ParseSingleExample/ParseExample/Const_2)]]\n\nCaused by op 'input_36/ParseSingleExample/ParseExample/ParseExample', defined at:\n  File \"/Users/daniel/anaconda3/envs/tensorflow2/lib/python3.5/runpy.py\", line 184, in _run_module_as_main\n    \"__main__\", mod_spec)\n  File \"/Users/daniel/anaconda3/envs/tensorflow2/lib/python3.5/runpy.py\", line 85, in _run_code\n    exec(code, run_globals)\n  File \"/Users/daniel/anaconda3/envs/tensorflow2/lib/python3.5/site-packages/ipykernel/__main__.py\", line 3, in <module>\n    app.launch_new_instance()\n  File \"/Users/daniel/anaconda3/envs/tensorflow2/lib/python3.5/site-packages/traitlets/config/application.py\", line 658, in launch_instance\n    app.start()\n  File \"/Users/daniel/anaconda3/envs/tensorflow2/lib/python3.5/site-packages/ipykernel/kernelapp.py\", line 474, in start\n    ioloop.IOLoop.instance().start()\n  File \"/Users/daniel/anaconda3/envs/tensorflow2/lib/python3.5/site-packages/zmq/eventloop/ioloop.py\", line 177, in start\n    super(ZMQIOLoop, self).start()\n  File \"/Users/daniel/anaconda3/envs/tensorflow2/lib/python3.5/site-packages/tornado/ioloop.py\", line 887, in start\n    handler_func(fd_obj, events)\n  File \"/Users/daniel/anaconda3/envs/tensorflow2/lib/python3.5/site-packages/tornado/stack_context.py\", line 275, in null_wrapper\n    return fn(*args, **kwargs)\n  File \"/Users/daniel/anaconda3/envs/tensorflow2/lib/python3.5/site-packages/zmq/eventloop/zmqstream.py\", line 440, in _handle_events\n    self._handle_recv()\n  File \"/Users/daniel/anaconda3/envs/tensorflow2/lib/python3.5/site-packages/zmq/eventloop/zmqstream.py\", line 472, in _handle_recv\n    self._run_callback(callback, msg)\n  File \"/Users/daniel/anaconda3/envs/tensorflow2/lib/python3.5/site-packages/zmq/eventloop/zmqstream.py\", line 414, in _run_callback\n    callback(*args, **kwargs)\n  File \"/Users/daniel/anaconda3/envs/tensorflow2/lib/python3.5/site-packages/tornado/stack_context.py\", line 275, in null_wrapper\n    return fn(*args, **kwargs)\n  File \"/Users/daniel/anaconda3/envs/tensorflow2/lib/python3.5/site-packages/ipykernel/kernelbase.py\", line 276, in dispatcher\n    return self.dispatch_shell(stream, msg)\n  File \"/Users/daniel/anaconda3/envs/tensorflow2/lib/python3.5/site-packages/ipykernel/kernelbase.py\", line 228, in dispatch_shell\n    handler(stream, idents, msg)\n  File \"/Users/daniel/anaconda3/envs/tensorflow2/lib/python3.5/site-packages/ipykernel/kernelbase.py\", line 390, in execute_request\n    user_expressions, allow_stdin)\n  File \"/Users/daniel/anaconda3/envs/tensorflow2/lib/python3.5/site-packages/ipykernel/ipkernel.py\", line 196, in do_execute\n    res = shell.run_cell(code, store_history=store_history, silent=silent)\n  File \"/Users/daniel/anaconda3/envs/tensorflow2/lib/python3.5/site-packages/ipykernel/zmqshell.py\", line 501, in run_cell\n    return super(ZMQInteractiveShell, self).run_cell(*args, **kwargs)\n  File \"/Users/daniel/anaconda3/envs/tensorflow2/lib/python3.5/site-packages/IPython/core/interactiveshell.py\", line 2717, in run_cell\n    interactivity=interactivity, compiler=compiler, result=result)\n  File \"/Users/daniel/anaconda3/envs/tensorflow2/lib/python3.5/site-packages/IPython/core/interactiveshell.py\", line 2821, in run_ast_nodes\n    if self.run_code(code, result):\n  File \"/Users/daniel/anaconda3/envs/tensorflow2/lib/python3.5/site-packages/IPython/core/interactiveshell.py\", line 2881, in run_code\n    exec(code_obj, self.user_global_ns, self.user_ns)\n  File \"<ipython-input-161-f21a24e22a12>\", line 7, in <module>\n    image, angle, label, img_name = read_and_decode(filename_queue)\n  File \"<ipython-input-157-fbd70f43efdf>\", line 12, in read_and_decode\n    'img_name': tf.FixedLenFeature([], tf.string)\n  File \"/Users/daniel/anaconda3/envs/tensorflow2/lib/python3.5/site-packages/tensorflow/python/ops/parsing_ops.py\", line 453, in parse_single_example\n    dense_types, dense_defaults, dense_shapes, name)\n  File \"/Users/daniel/anaconda3/envs/tensorflow2/lib/python3.5/site-packages/tensorflow/python/ops/parsing_ops.py\", line 525, in _parse_single_example_raw\n    name=name)\n  File \"/Users/daniel/anaconda3/envs/tensorflow2/lib/python3.5/site-packages/tensorflow/python/ops/parsing_ops.py\", line 405, in _parse_example_raw\n    name=name)\n  File \"/Users/daniel/anaconda3/envs/tensorflow2/lib/python3.5/site-packages/tensorflow/python/ops/gen_parsing_ops.py\", line 165, in _parse_example\n    dense_shapes=dense_shapes, name=name)\n  File \"/Users/daniel/anaconda3/envs/tensorflow2/lib/python3.5/site-packages/tensorflow/python/framework/op_def_library.py\", line 749, in apply_op\n    op_def=op_def)\n  File \"/Users/daniel/anaconda3/envs/tensorflow2/lib/python3.5/site-packages/tensorflow/python/framework/ops.py\", line 2380, in create_op\n    original_op=self._default_original_op, op_def=op_def)\n  File \"/Users/daniel/anaconda3/envs/tensorflow2/lib/python3.5/site-packages/tensorflow/python/framework/ops.py\", line 1298, in __init__\n    self._traceback = _extract_stack()\n\nInvalidArgumentError (see above for traceback): Name: <unknown>, Feature: label is required but could not be found.\n\t [[Node: input_36/ParseSingleExample/ParseExample/ParseExample = ParseExample[Ndense=3, Nsparse=0, Tdense=[DT_STRING, DT_STRING, DT_FLOAT], dense_shapes=[[], [], []], sparse_types=[], _device=\"/job:localhost/replica:0/task:0/cpu:0\"](input_36/ParseSingleExample/ExpandDims, input_36/ParseSingleExample/ParseExample/ParseExample/names, input_36/ParseSingleExample/ParseExample/ParseExample/dense_keys_0, input_36/ParseSingleExample/ParseExample/ParseExample/dense_keys_1, input_36/ParseSingleExample/ParseExample/ParseExample/dense_keys_2, input_36/ParseSingleExample/ParseExample/Const, input_36/ParseSingleExample/ParseExample/Const_1, input_36/ParseSingleExample/ParseExample/Const_2)]]\n",
     "output_type": "error",
     "traceback": [
      "\u001b[0;31m---------------------------------------------------------------------------\u001b[0m",
      "\u001b[0;31mInvalidArgumentError\u001b[0m                      Traceback (most recent call last)",
      "\u001b[0;32m/Users/daniel/anaconda3/envs/tensorflow2/lib/python3.5/site-packages/tensorflow/python/client/session.py\u001b[0m in \u001b[0;36m_do_call\u001b[0;34m(self, fn, *args)\u001b[0m\n\u001b[1;32m    971\u001b[0m     \u001b[0;32mtry\u001b[0m\u001b[0;34m:\u001b[0m\u001b[0;34m\u001b[0m\u001b[0m\n\u001b[0;32m--> 972\u001b[0;31m       \u001b[0;32mreturn\u001b[0m \u001b[0mfn\u001b[0m\u001b[0;34m(\u001b[0m\u001b[0;34m*\u001b[0m\u001b[0margs\u001b[0m\u001b[0;34m)\u001b[0m\u001b[0;34m\u001b[0m\u001b[0m\n\u001b[0m\u001b[1;32m    973\u001b[0m     \u001b[0;32mexcept\u001b[0m \u001b[0merrors\u001b[0m\u001b[0;34m.\u001b[0m\u001b[0mOpError\u001b[0m \u001b[0;32mas\u001b[0m \u001b[0me\u001b[0m\u001b[0;34m:\u001b[0m\u001b[0;34m\u001b[0m\u001b[0m\n",
      "\u001b[0;32m/Users/daniel/anaconda3/envs/tensorflow2/lib/python3.5/site-packages/tensorflow/python/client/session.py\u001b[0m in \u001b[0;36m_run_fn\u001b[0;34m(session, feed_dict, fetch_list, target_list, options, run_metadata)\u001b[0m\n\u001b[1;32m    953\u001b[0m                                  \u001b[0mfeed_dict\u001b[0m\u001b[0;34m,\u001b[0m \u001b[0mfetch_list\u001b[0m\u001b[0;34m,\u001b[0m \u001b[0mtarget_list\u001b[0m\u001b[0;34m,\u001b[0m\u001b[0;34m\u001b[0m\u001b[0m\n\u001b[0;32m--> 954\u001b[0;31m                                  status, run_metadata)\n\u001b[0m\u001b[1;32m    955\u001b[0m \u001b[0;34m\u001b[0m\u001b[0m\n",
      "\u001b[0;32m/Users/daniel/anaconda3/envs/tensorflow2/lib/python3.5/contextlib.py\u001b[0m in \u001b[0;36m__exit__\u001b[0;34m(self, type, value, traceback)\u001b[0m\n\u001b[1;32m     65\u001b[0m             \u001b[0;32mtry\u001b[0m\u001b[0;34m:\u001b[0m\u001b[0;34m\u001b[0m\u001b[0m\n\u001b[0;32m---> 66\u001b[0;31m                 \u001b[0mnext\u001b[0m\u001b[0;34m(\u001b[0m\u001b[0mself\u001b[0m\u001b[0;34m.\u001b[0m\u001b[0mgen\u001b[0m\u001b[0;34m)\u001b[0m\u001b[0;34m\u001b[0m\u001b[0m\n\u001b[0m\u001b[1;32m     67\u001b[0m             \u001b[0;32mexcept\u001b[0m \u001b[0mStopIteration\u001b[0m\u001b[0;34m:\u001b[0m\u001b[0;34m\u001b[0m\u001b[0m\n",
      "\u001b[0;32m/Users/daniel/anaconda3/envs/tensorflow2/lib/python3.5/site-packages/tensorflow/python/framework/errors.py\u001b[0m in \u001b[0;36mraise_exception_on_not_ok_status\u001b[0;34m()\u001b[0m\n\u001b[1;32m    462\u001b[0m           \u001b[0mcompat\u001b[0m\u001b[0;34m.\u001b[0m\u001b[0mas_text\u001b[0m\u001b[0;34m(\u001b[0m\u001b[0mpywrap_tensorflow\u001b[0m\u001b[0;34m.\u001b[0m\u001b[0mTF_Message\u001b[0m\u001b[0;34m(\u001b[0m\u001b[0mstatus\u001b[0m\u001b[0;34m)\u001b[0m\u001b[0;34m)\u001b[0m\u001b[0;34m,\u001b[0m\u001b[0;34m\u001b[0m\u001b[0m\n\u001b[0;32m--> 463\u001b[0;31m           pywrap_tensorflow.TF_GetCode(status))\n\u001b[0m\u001b[1;32m    464\u001b[0m   \u001b[0;32mfinally\u001b[0m\u001b[0;34m:\u001b[0m\u001b[0;34m\u001b[0m\u001b[0m\n",
      "\u001b[0;31mInvalidArgumentError\u001b[0m: Name: <unknown>, Feature: label is required but could not be found.\n\t [[Node: input_36/ParseSingleExample/ParseExample/ParseExample = ParseExample[Ndense=3, Nsparse=0, Tdense=[DT_STRING, DT_STRING, DT_FLOAT], dense_shapes=[[], [], []], sparse_types=[], _device=\"/job:localhost/replica:0/task:0/cpu:0\"](input_36/ParseSingleExample/ExpandDims, input_36/ParseSingleExample/ParseExample/ParseExample/names, input_36/ParseSingleExample/ParseExample/ParseExample/dense_keys_0, input_36/ParseSingleExample/ParseExample/ParseExample/dense_keys_1, input_36/ParseSingleExample/ParseExample/ParseExample/dense_keys_2, input_36/ParseSingleExample/ParseExample/Const, input_36/ParseSingleExample/ParseExample/Const_1, input_36/ParseSingleExample/ParseExample/Const_2)]]",
      "\nDuring handling of the above exception, another exception occurred:\n",
      "\u001b[0;31mInvalidArgumentError\u001b[0m                      Traceback (most recent call last)",
      "\u001b[0;32m<ipython-input-161-f21a24e22a12>\u001b[0m in \u001b[0;36m<module>\u001b[0;34m()\u001b[0m\n\u001b[1;32m     15\u001b[0m         \u001b[0;32mfor\u001b[0m \u001b[0mi\u001b[0m \u001b[0;32min\u001b[0m \u001b[0mrange\u001b[0m\u001b[0;34m(\u001b[0m\u001b[0;36m100\u001b[0m\u001b[0;34m)\u001b[0m\u001b[0;34m:\u001b[0m\u001b[0;34m\u001b[0m\u001b[0m\n\u001b[1;32m     16\u001b[0m             \u001b[0;31m# Retrieve a single instance:\u001b[0m\u001b[0;34m\u001b[0m\u001b[0;34m\u001b[0m\u001b[0m\n\u001b[0;32m---> 17\u001b[0;31m             \u001b[0ma\u001b[0m \u001b[0;34m=\u001b[0m \u001b[0msess\u001b[0m\u001b[0;34m.\u001b[0m\u001b[0mrun\u001b[0m\u001b[0;34m(\u001b[0m\u001b[0;34m[\u001b[0m\u001b[0mimg_name\u001b[0m\u001b[0;34m]\u001b[0m\u001b[0;34m)\u001b[0m\u001b[0;34m\u001b[0m\u001b[0m\n\u001b[0m\u001b[1;32m     18\u001b[0m \u001b[0;31m#             if c in tmp:\u001b[0m\u001b[0;34m\u001b[0m\u001b[0;34m\u001b[0m\u001b[0m\n\u001b[1;32m     19\u001b[0m \u001b[0;31m#                 break\u001b[0m\u001b[0;34m\u001b[0m\u001b[0;34m\u001b[0m\u001b[0m\n",
      "\u001b[0;32m/Users/daniel/anaconda3/envs/tensorflow2/lib/python3.5/site-packages/tensorflow/python/client/session.py\u001b[0m in \u001b[0;36mrun\u001b[0;34m(self, fetches, feed_dict, options, run_metadata)\u001b[0m\n\u001b[1;32m    715\u001b[0m     \u001b[0;32mtry\u001b[0m\u001b[0;34m:\u001b[0m\u001b[0;34m\u001b[0m\u001b[0m\n\u001b[1;32m    716\u001b[0m       result = self._run(None, fetches, feed_dict, options_ptr,\n\u001b[0;32m--> 717\u001b[0;31m                          run_metadata_ptr)\n\u001b[0m\u001b[1;32m    718\u001b[0m       \u001b[0;32mif\u001b[0m \u001b[0mrun_metadata\u001b[0m\u001b[0;34m:\u001b[0m\u001b[0;34m\u001b[0m\u001b[0m\n\u001b[1;32m    719\u001b[0m         \u001b[0mproto_data\u001b[0m \u001b[0;34m=\u001b[0m \u001b[0mtf_session\u001b[0m\u001b[0;34m.\u001b[0m\u001b[0mTF_GetBuffer\u001b[0m\u001b[0;34m(\u001b[0m\u001b[0mrun_metadata_ptr\u001b[0m\u001b[0;34m)\u001b[0m\u001b[0;34m\u001b[0m\u001b[0m\n",
      "\u001b[0;32m/Users/daniel/anaconda3/envs/tensorflow2/lib/python3.5/site-packages/tensorflow/python/client/session.py\u001b[0m in \u001b[0;36m_run\u001b[0;34m(self, handle, fetches, feed_dict, options, run_metadata)\u001b[0m\n\u001b[1;32m    913\u001b[0m     \u001b[0;32mif\u001b[0m \u001b[0mfinal_fetches\u001b[0m \u001b[0;32mor\u001b[0m \u001b[0mfinal_targets\u001b[0m\u001b[0;34m:\u001b[0m\u001b[0;34m\u001b[0m\u001b[0m\n\u001b[1;32m    914\u001b[0m       results = self._do_run(handle, final_targets, final_fetches,\n\u001b[0;32m--> 915\u001b[0;31m                              feed_dict_string, options, run_metadata)\n\u001b[0m\u001b[1;32m    916\u001b[0m     \u001b[0;32melse\u001b[0m\u001b[0;34m:\u001b[0m\u001b[0;34m\u001b[0m\u001b[0m\n\u001b[1;32m    917\u001b[0m       \u001b[0mresults\u001b[0m \u001b[0;34m=\u001b[0m \u001b[0;34m[\u001b[0m\u001b[0;34m]\u001b[0m\u001b[0;34m\u001b[0m\u001b[0m\n",
      "\u001b[0;32m/Users/daniel/anaconda3/envs/tensorflow2/lib/python3.5/site-packages/tensorflow/python/client/session.py\u001b[0m in \u001b[0;36m_do_run\u001b[0;34m(self, handle, target_list, fetch_list, feed_dict, options, run_metadata)\u001b[0m\n\u001b[1;32m    963\u001b[0m     \u001b[0;32mif\u001b[0m \u001b[0mhandle\u001b[0m \u001b[0;32mis\u001b[0m \u001b[0;32mNone\u001b[0m\u001b[0;34m:\u001b[0m\u001b[0;34m\u001b[0m\u001b[0m\n\u001b[1;32m    964\u001b[0m       return self._do_call(_run_fn, self._session, feed_dict, fetch_list,\n\u001b[0;32m--> 965\u001b[0;31m                            target_list, options, run_metadata)\n\u001b[0m\u001b[1;32m    966\u001b[0m     \u001b[0;32melse\u001b[0m\u001b[0;34m:\u001b[0m\u001b[0;34m\u001b[0m\u001b[0m\n\u001b[1;32m    967\u001b[0m       return self._do_call(_prun_fn, self._session, handle, feed_dict,\n",
      "\u001b[0;32m/Users/daniel/anaconda3/envs/tensorflow2/lib/python3.5/site-packages/tensorflow/python/client/session.py\u001b[0m in \u001b[0;36m_do_call\u001b[0;34m(self, fn, *args)\u001b[0m\n\u001b[1;32m    983\u001b[0m         \u001b[0;32mexcept\u001b[0m \u001b[0mKeyError\u001b[0m\u001b[0;34m:\u001b[0m\u001b[0;34m\u001b[0m\u001b[0m\n\u001b[1;32m    984\u001b[0m           \u001b[0;32mpass\u001b[0m\u001b[0;34m\u001b[0m\u001b[0m\n\u001b[0;32m--> 985\u001b[0;31m       \u001b[0;32mraise\u001b[0m \u001b[0mtype\u001b[0m\u001b[0;34m(\u001b[0m\u001b[0me\u001b[0m\u001b[0;34m)\u001b[0m\u001b[0;34m(\u001b[0m\u001b[0mnode_def\u001b[0m\u001b[0;34m,\u001b[0m \u001b[0mop\u001b[0m\u001b[0;34m,\u001b[0m \u001b[0mmessage\u001b[0m\u001b[0;34m)\u001b[0m\u001b[0;34m\u001b[0m\u001b[0m\n\u001b[0m\u001b[1;32m    986\u001b[0m \u001b[0;34m\u001b[0m\u001b[0m\n\u001b[1;32m    987\u001b[0m   \u001b[0;32mdef\u001b[0m \u001b[0m_extend_graph\u001b[0m\u001b[0;34m(\u001b[0m\u001b[0mself\u001b[0m\u001b[0;34m)\u001b[0m\u001b[0;34m:\u001b[0m\u001b[0;34m\u001b[0m\u001b[0m\n",
      "\u001b[0;31mInvalidArgumentError\u001b[0m: Name: <unknown>, Feature: label is required but could not be found.\n\t [[Node: input_36/ParseSingleExample/ParseExample/ParseExample = ParseExample[Ndense=3, Nsparse=0, Tdense=[DT_STRING, DT_STRING, DT_FLOAT], dense_shapes=[[], [], []], sparse_types=[], _device=\"/job:localhost/replica:0/task:0/cpu:0\"](input_36/ParseSingleExample/ExpandDims, input_36/ParseSingleExample/ParseExample/ParseExample/names, input_36/ParseSingleExample/ParseExample/ParseExample/dense_keys_0, input_36/ParseSingleExample/ParseExample/ParseExample/dense_keys_1, input_36/ParseSingleExample/ParseExample/ParseExample/dense_keys_2, input_36/ParseSingleExample/ParseExample/Const, input_36/ParseSingleExample/ParseExample/Const_1, input_36/ParseSingleExample/ParseExample/Const_2)]]\n\nCaused by op 'input_36/ParseSingleExample/ParseExample/ParseExample', defined at:\n  File \"/Users/daniel/anaconda3/envs/tensorflow2/lib/python3.5/runpy.py\", line 184, in _run_module_as_main\n    \"__main__\", mod_spec)\n  File \"/Users/daniel/anaconda3/envs/tensorflow2/lib/python3.5/runpy.py\", line 85, in _run_code\n    exec(code, run_globals)\n  File \"/Users/daniel/anaconda3/envs/tensorflow2/lib/python3.5/site-packages/ipykernel/__main__.py\", line 3, in <module>\n    app.launch_new_instance()\n  File \"/Users/daniel/anaconda3/envs/tensorflow2/lib/python3.5/site-packages/traitlets/config/application.py\", line 658, in launch_instance\n    app.start()\n  File \"/Users/daniel/anaconda3/envs/tensorflow2/lib/python3.5/site-packages/ipykernel/kernelapp.py\", line 474, in start\n    ioloop.IOLoop.instance().start()\n  File \"/Users/daniel/anaconda3/envs/tensorflow2/lib/python3.5/site-packages/zmq/eventloop/ioloop.py\", line 177, in start\n    super(ZMQIOLoop, self).start()\n  File \"/Users/daniel/anaconda3/envs/tensorflow2/lib/python3.5/site-packages/tornado/ioloop.py\", line 887, in start\n    handler_func(fd_obj, events)\n  File \"/Users/daniel/anaconda3/envs/tensorflow2/lib/python3.5/site-packages/tornado/stack_context.py\", line 275, in null_wrapper\n    return fn(*args, **kwargs)\n  File \"/Users/daniel/anaconda3/envs/tensorflow2/lib/python3.5/site-packages/zmq/eventloop/zmqstream.py\", line 440, in _handle_events\n    self._handle_recv()\n  File \"/Users/daniel/anaconda3/envs/tensorflow2/lib/python3.5/site-packages/zmq/eventloop/zmqstream.py\", line 472, in _handle_recv\n    self._run_callback(callback, msg)\n  File \"/Users/daniel/anaconda3/envs/tensorflow2/lib/python3.5/site-packages/zmq/eventloop/zmqstream.py\", line 414, in _run_callback\n    callback(*args, **kwargs)\n  File \"/Users/daniel/anaconda3/envs/tensorflow2/lib/python3.5/site-packages/tornado/stack_context.py\", line 275, in null_wrapper\n    return fn(*args, **kwargs)\n  File \"/Users/daniel/anaconda3/envs/tensorflow2/lib/python3.5/site-packages/ipykernel/kernelbase.py\", line 276, in dispatcher\n    return self.dispatch_shell(stream, msg)\n  File \"/Users/daniel/anaconda3/envs/tensorflow2/lib/python3.5/site-packages/ipykernel/kernelbase.py\", line 228, in dispatch_shell\n    handler(stream, idents, msg)\n  File \"/Users/daniel/anaconda3/envs/tensorflow2/lib/python3.5/site-packages/ipykernel/kernelbase.py\", line 390, in execute_request\n    user_expressions, allow_stdin)\n  File \"/Users/daniel/anaconda3/envs/tensorflow2/lib/python3.5/site-packages/ipykernel/ipkernel.py\", line 196, in do_execute\n    res = shell.run_cell(code, store_history=store_history, silent=silent)\n  File \"/Users/daniel/anaconda3/envs/tensorflow2/lib/python3.5/site-packages/ipykernel/zmqshell.py\", line 501, in run_cell\n    return super(ZMQInteractiveShell, self).run_cell(*args, **kwargs)\n  File \"/Users/daniel/anaconda3/envs/tensorflow2/lib/python3.5/site-packages/IPython/core/interactiveshell.py\", line 2717, in run_cell\n    interactivity=interactivity, compiler=compiler, result=result)\n  File \"/Users/daniel/anaconda3/envs/tensorflow2/lib/python3.5/site-packages/IPython/core/interactiveshell.py\", line 2821, in run_ast_nodes\n    if self.run_code(code, result):\n  File \"/Users/daniel/anaconda3/envs/tensorflow2/lib/python3.5/site-packages/IPython/core/interactiveshell.py\", line 2881, in run_code\n    exec(code_obj, self.user_global_ns, self.user_ns)\n  File \"<ipython-input-161-f21a24e22a12>\", line 7, in <module>\n    image, angle, label, img_name = read_and_decode(filename_queue)\n  File \"<ipython-input-157-fbd70f43efdf>\", line 12, in read_and_decode\n    'img_name': tf.FixedLenFeature([], tf.string)\n  File \"/Users/daniel/anaconda3/envs/tensorflow2/lib/python3.5/site-packages/tensorflow/python/ops/parsing_ops.py\", line 453, in parse_single_example\n    dense_types, dense_defaults, dense_shapes, name)\n  File \"/Users/daniel/anaconda3/envs/tensorflow2/lib/python3.5/site-packages/tensorflow/python/ops/parsing_ops.py\", line 525, in _parse_single_example_raw\n    name=name)\n  File \"/Users/daniel/anaconda3/envs/tensorflow2/lib/python3.5/site-packages/tensorflow/python/ops/parsing_ops.py\", line 405, in _parse_example_raw\n    name=name)\n  File \"/Users/daniel/anaconda3/envs/tensorflow2/lib/python3.5/site-packages/tensorflow/python/ops/gen_parsing_ops.py\", line 165, in _parse_example\n    dense_shapes=dense_shapes, name=name)\n  File \"/Users/daniel/anaconda3/envs/tensorflow2/lib/python3.5/site-packages/tensorflow/python/framework/op_def_library.py\", line 749, in apply_op\n    op_def=op_def)\n  File \"/Users/daniel/anaconda3/envs/tensorflow2/lib/python3.5/site-packages/tensorflow/python/framework/ops.py\", line 2380, in create_op\n    original_op=self._default_original_op, op_def=op_def)\n  File \"/Users/daniel/anaconda3/envs/tensorflow2/lib/python3.5/site-packages/tensorflow/python/framework/ops.py\", line 1298, in __init__\n    self._traceback = _extract_stack()\n\nInvalidArgumentError (see above for traceback): Name: <unknown>, Feature: label is required but could not be found.\n\t [[Node: input_36/ParseSingleExample/ParseExample/ParseExample = ParseExample[Ndense=3, Nsparse=0, Tdense=[DT_STRING, DT_STRING, DT_FLOAT], dense_shapes=[[], [], []], sparse_types=[], _device=\"/job:localhost/replica:0/task:0/cpu:0\"](input_36/ParseSingleExample/ExpandDims, input_36/ParseSingleExample/ParseExample/ParseExample/names, input_36/ParseSingleExample/ParseExample/ParseExample/dense_keys_0, input_36/ParseSingleExample/ParseExample/ParseExample/dense_keys_1, input_36/ParseSingleExample/ParseExample/ParseExample/dense_keys_2, input_36/ParseSingleExample/ParseExample/Const, input_36/ParseSingleExample/ParseExample/Const_1, input_36/ParseSingleExample/ParseExample/Const_2)]]\n"
     ]
    }
   ],
   "source": [
    "num_epochs = None\n",
    "batch_size = 100\n",
    "with tf.name_scope('input'):\n",
    "    filename_queue = tf.train.string_input_producer(\n",
    "        filename, num_epochs=num_epochs)\n",
    "\n",
    "    image, angle, label, img_name = read_and_decode(filename_queue)\n",
    "    images = []\n",
    "    img_names = []\n",
    "    with tf.Session() as sess:\n",
    "        # Start populating the filename queue.\n",
    "        coord = tf.train.Coordinator()\n",
    "        threads = tf.train.start_queue_runners(coord=coord)\n",
    "        tmp = []\n",
    "        for i in range(100):\n",
    "            # Retrieve a single instance:\n",
    "            a = sess.run([img_name])\n",
    "#             if c in tmp:\n",
    "#                 break\n",
    "#             tmp.append(c)\n",
    "            images.append(a)\n",
    "#             img_names.append(b)\n",
    "\n",
    "        coord.request_stop()\n",
    "        coord.join(threads)\n",
    "        print('done!!')"
   ]
  },
  {
   "cell_type": "code",
   "execution_count": 53,
   "metadata": {
    "collapsed": false
   },
   "outputs": [
    {
     "data": {
      "text/plain": [
       "array([-0.00174533], dtype=float32)"
      ]
     },
     "execution_count": 53,
     "metadata": {},
     "output_type": "execute_result"
    }
   ],
   "source": [
    "img_names[999]"
   ]
  },
  {
   "cell_type": "code",
   "execution_count": 47,
   "metadata": {
    "collapsed": false
   },
   "outputs": [
    {
     "data": {
      "text/plain": [
       "array([-0.00872665,  0.00174533, -0.0106064 , -0.01047198, -0.00174533,\n",
       "       -0.00174533,  0.04837419, -0.03490658,  0.02443461,  0.00375849,\n",
       "        0.01472643,  0.00022914,  0.12566371, -0.01396263,  0.05078869,\n",
       "       -0.01570796,  0.03675999,  0.03316126, -0.01047198,  0.04184481,\n",
       "       -0.01491667, -0.04686459, -0.04537856, -0.071329  , -0.03141593,\n",
       "        0.05811516,  0.037611  ,  0.01047198, -0.01396263,  0.08028515,\n",
       "        0.01964896, -0.01912297, -0.00174533, -0.00729858, -0.01919862,\n",
       "        0.07200993,  0.07330383,  0.02792527, -0.02268928, -0.02792527,\n",
       "       -0.02094395,  0.00872665, -0.00523599,  0.07412998, -0.00375505,\n",
       "       -0.03316126, -0.09250245,  0.01396263,  0.01896811,  0.0648128 ,\n",
       "       -0.00174533,  0.0175952 , -0.00537863,  0.05149613, -0.01460221,\n",
       "       -0.00349066, -0.00698132, -0.02268928,  0.00698132,  0.00872665,\n",
       "       -0.06766396, -0.01745329,  0.00174533,  0.0346966 , -0.00872665,\n",
       "        0.00872665, -0.00140603, -0.06283186, -0.01919862,  0.00872665,\n",
       "       -0.00944111, -0.02617994,  0.01895631,  0.01745329,  0.04712389,\n",
       "        0.01515784, -0.00698132,  0.11255231, -0.00660532,  0.03839725,\n",
       "       -0.00174533, -0.00174533, -0.02268928,  0.00349066,  0.00266974,\n",
       "        0.        , -0.00174533,  0.        , -0.00998414, -0.00174533,\n",
       "        0.        , -0.00174533,  0.01047198,  0.0122173 , -0.04305908,\n",
       "        0.03394166,  0.01421455,  0.00681807, -0.01745329, -0.01570796], dtype=float32)"
      ]
     },
     "execution_count": 47,
     "metadata": {},
     "output_type": "execute_result"
    }
   ],
   "source": [
    "np.concatenate(img_names)"
   ]
  },
  {
   "cell_type": "code",
   "execution_count": null,
   "metadata": {
    "collapsed": true
   },
   "outputs": [],
   "source": []
  },
  {
   "cell_type": "code",
   "execution_count": null,
   "metadata": {
    "collapsed": true
   },
   "outputs": [],
   "source": []
  },
  {
   "cell_type": "code",
   "execution_count": 20,
   "metadata": {
    "collapsed": true
   },
   "outputs": [],
   "source": [
    "filenames = aggregate_dataset(['center'], ['original'], ['train'])['train']"
   ]
  },
  {
   "cell_type": "code",
   "execution_count": 21,
   "metadata": {
    "collapsed": false
   },
   "outputs": [
    {
     "data": {
      "text/plain": [
       "['data/udacity-dataset-2/center/original/train_0.tfrecords']"
      ]
     },
     "execution_count": 21,
     "metadata": {},
     "output_type": "execute_result"
    }
   ],
   "source": [
    "filenames"
   ]
  },
  {
   "cell_type": "code",
   "execution_count": 22,
   "metadata": {
    "collapsed": false
   },
   "outputs": [],
   "source": [
    "num_epochs = None\n",
    "batch_size = 100\n",
    "one_hot_labels = False\n",
    "with tf.name_scope('input'):\n",
    "    filename_queue = tf.train.string_input_producer(\n",
    "        filenames, num_epochs=num_epochs)\n",
    "\n",
    "    image, angle, label, img_name = read_and_decode(filename_queue)\n",
    "    if one_hot_labels:\n",
    "        print(\"one_hot_labels\")\n",
    "        label = tf.one_hot(label, NUM_CLASSES, dtype=tf.int32)\n",
    "        images, sparse_labels = tf.train.shuffle_batch(\n",
    "            [image, label], batch_size=batch_size, num_threads=4,\n",
    "            capacity=1000 + 3 * batch_size,\n",
    "            # Ensures a minimum amount of shuffling of examples.\n",
    "            min_after_dequeue=1000)\n",
    "#         return images, sparse_labels\n",
    "    else:\n",
    "        pass"
   ]
  },
  {
   "cell_type": "code",
   "execution_count": 23,
   "metadata": {
    "collapsed": false
   },
   "outputs": [],
   "source": [
    "images, sparse_angles = tf.train.shuffle_batch(\n",
    "                        [image, angle], batch_size=batch_size, num_threads=4,\n",
    "                        capacity=1000 + 3 * batch_size,\n",
    "                        # Ensures a minimum amount of shuffling of examples.\n",
    "                        min_after_dequeue=1000)"
   ]
  },
  {
   "cell_type": "code",
   "execution_count": 30,
   "metadata": {
    "collapsed": false
   },
   "outputs": [
    {
     "name": "stdout",
     "output_type": "stream",
     "text": [
      "here\n"
     ]
    },
    {
     "ename": "InvalidArgumentError",
     "evalue": "Name: <unknown>, Feature: label.  Data types don't match. Data type: int64Expected type: float\n\t [[Node: input_5/ParseSingleExample/ParseExample/ParseExample = ParseExample[Ndense=2, Nsparse=0, Tdense=[DT_STRING, DT_FLOAT], dense_shapes=[[], []], sparse_types=[], _device=\"/job:localhost/replica:0/task:0/cpu:0\"](input_5/ParseSingleExample/ExpandDims, input_5/ParseSingleExample/ParseExample/ParseExample/names, input_5/ParseSingleExample/ParseExample/ParseExample/dense_keys_0, input_5/ParseSingleExample/ParseExample/ParseExample/dense_keys_1, input_5/ParseSingleExample/ParseExample/Const, input_5/ParseSingleExample/ParseExample/Const_1)]]\n\nCaused by op 'input_5/ParseSingleExample/ParseExample/ParseExample', defined at:\n  File \"/Users/daniel/anaconda3/envs/tensorflow2/lib/python3.5/runpy.py\", line 184, in _run_module_as_main\n    \"__main__\", mod_spec)\n  File \"/Users/daniel/anaconda3/envs/tensorflow2/lib/python3.5/runpy.py\", line 85, in _run_code\n    exec(code, run_globals)\n  File \"/Users/daniel/anaconda3/envs/tensorflow2/lib/python3.5/site-packages/ipykernel/__main__.py\", line 3, in <module>\n    app.launch_new_instance()\n  File \"/Users/daniel/anaconda3/envs/tensorflow2/lib/python3.5/site-packages/traitlets/config/application.py\", line 658, in launch_instance\n    app.start()\n  File \"/Users/daniel/anaconda3/envs/tensorflow2/lib/python3.5/site-packages/ipykernel/kernelapp.py\", line 474, in start\n    ioloop.IOLoop.instance().start()\n  File \"/Users/daniel/anaconda3/envs/tensorflow2/lib/python3.5/site-packages/zmq/eventloop/ioloop.py\", line 177, in start\n    super(ZMQIOLoop, self).start()\n  File \"/Users/daniel/anaconda3/envs/tensorflow2/lib/python3.5/site-packages/tornado/ioloop.py\", line 887, in start\n    handler_func(fd_obj, events)\n  File \"/Users/daniel/anaconda3/envs/tensorflow2/lib/python3.5/site-packages/tornado/stack_context.py\", line 275, in null_wrapper\n    return fn(*args, **kwargs)\n  File \"/Users/daniel/anaconda3/envs/tensorflow2/lib/python3.5/site-packages/zmq/eventloop/zmqstream.py\", line 440, in _handle_events\n    self._handle_recv()\n  File \"/Users/daniel/anaconda3/envs/tensorflow2/lib/python3.5/site-packages/zmq/eventloop/zmqstream.py\", line 472, in _handle_recv\n    self._run_callback(callback, msg)\n  File \"/Users/daniel/anaconda3/envs/tensorflow2/lib/python3.5/site-packages/zmq/eventloop/zmqstream.py\", line 414, in _run_callback\n    callback(*args, **kwargs)\n  File \"/Users/daniel/anaconda3/envs/tensorflow2/lib/python3.5/site-packages/tornado/stack_context.py\", line 275, in null_wrapper\n    return fn(*args, **kwargs)\n  File \"/Users/daniel/anaconda3/envs/tensorflow2/lib/python3.5/site-packages/ipykernel/kernelbase.py\", line 276, in dispatcher\n    return self.dispatch_shell(stream, msg)\n  File \"/Users/daniel/anaconda3/envs/tensorflow2/lib/python3.5/site-packages/ipykernel/kernelbase.py\", line 228, in dispatch_shell\n    handler(stream, idents, msg)\n  File \"/Users/daniel/anaconda3/envs/tensorflow2/lib/python3.5/site-packages/ipykernel/kernelbase.py\", line 390, in execute_request\n    user_expressions, allow_stdin)\n  File \"/Users/daniel/anaconda3/envs/tensorflow2/lib/python3.5/site-packages/ipykernel/ipkernel.py\", line 196, in do_execute\n    res = shell.run_cell(code, store_history=store_history, silent=silent)\n  File \"/Users/daniel/anaconda3/envs/tensorflow2/lib/python3.5/site-packages/ipykernel/zmqshell.py\", line 501, in run_cell\n    return super(ZMQInteractiveShell, self).run_cell(*args, **kwargs)\n  File \"/Users/daniel/anaconda3/envs/tensorflow2/lib/python3.5/site-packages/IPython/core/interactiveshell.py\", line 2717, in run_cell\n    interactivity=interactivity, compiler=compiler, result=result)\n  File \"/Users/daniel/anaconda3/envs/tensorflow2/lib/python3.5/site-packages/IPython/core/interactiveshell.py\", line 2821, in run_ast_nodes\n    if self.run_code(code, result):\n  File \"/Users/daniel/anaconda3/envs/tensorflow2/lib/python3.5/site-packages/IPython/core/interactiveshell.py\", line 2881, in run_code\n    exec(code_obj, self.user_global_ns, self.user_ns)\n  File \"<ipython-input-30-a45425d69b0b>\", line 11, in <module>\n    image, angle, label, img_name = read_and_decode(filename_queue)\n  File \"/Users/daniel/Dropbox/udacity_challenge2_v2/util/input.py\", line 51, in read_and_decode\n    'label': tf.FixedLenFeature([], tf.float32),\n  File \"/Users/daniel/anaconda3/envs/tensorflow2/lib/python3.5/site-packages/tensorflow/python/ops/parsing_ops.py\", line 453, in parse_single_example\n    dense_types, dense_defaults, dense_shapes, name)\n  File \"/Users/daniel/anaconda3/envs/tensorflow2/lib/python3.5/site-packages/tensorflow/python/ops/parsing_ops.py\", line 525, in _parse_single_example_raw\n    name=name)\n  File \"/Users/daniel/anaconda3/envs/tensorflow2/lib/python3.5/site-packages/tensorflow/python/ops/parsing_ops.py\", line 405, in _parse_example_raw\n    name=name)\n  File \"/Users/daniel/anaconda3/envs/tensorflow2/lib/python3.5/site-packages/tensorflow/python/ops/gen_parsing_ops.py\", line 165, in _parse_example\n    dense_shapes=dense_shapes, name=name)\n  File \"/Users/daniel/anaconda3/envs/tensorflow2/lib/python3.5/site-packages/tensorflow/python/framework/op_def_library.py\", line 749, in apply_op\n    op_def=op_def)\n  File \"/Users/daniel/anaconda3/envs/tensorflow2/lib/python3.5/site-packages/tensorflow/python/framework/ops.py\", line 2380, in create_op\n    original_op=self._default_original_op, op_def=op_def)\n  File \"/Users/daniel/anaconda3/envs/tensorflow2/lib/python3.5/site-packages/tensorflow/python/framework/ops.py\", line 1298, in __init__\n    self._traceback = _extract_stack()\n\nInvalidArgumentError (see above for traceback): Name: <unknown>, Feature: label.  Data types don't match. Data type: int64Expected type: float\n\t [[Node: input_5/ParseSingleExample/ParseExample/ParseExample = ParseExample[Ndense=2, Nsparse=0, Tdense=[DT_STRING, DT_FLOAT], dense_shapes=[[], []], sparse_types=[], _device=\"/job:localhost/replica:0/task:0/cpu:0\"](input_5/ParseSingleExample/ExpandDims, input_5/ParseSingleExample/ParseExample/ParseExample/names, input_5/ParseSingleExample/ParseExample/ParseExample/dense_keys_0, input_5/ParseSingleExample/ParseExample/ParseExample/dense_keys_1, input_5/ParseSingleExample/ParseExample/Const, input_5/ParseSingleExample/ParseExample/Const_1)]]\n",
     "output_type": "error",
     "traceback": [
      "\u001b[0;31m---------------------------------------------------------------------------\u001b[0m",
      "\u001b[0;31mInvalidArgumentError\u001b[0m                      Traceback (most recent call last)",
      "\u001b[0;32m/Users/daniel/anaconda3/envs/tensorflow2/lib/python3.5/site-packages/tensorflow/python/client/session.py\u001b[0m in \u001b[0;36m_do_call\u001b[0;34m(self, fn, *args)\u001b[0m\n\u001b[1;32m    971\u001b[0m     \u001b[0;32mtry\u001b[0m\u001b[0;34m:\u001b[0m\u001b[0;34m\u001b[0m\u001b[0m\n\u001b[0;32m--> 972\u001b[0;31m       \u001b[0;32mreturn\u001b[0m \u001b[0mfn\u001b[0m\u001b[0;34m(\u001b[0m\u001b[0;34m*\u001b[0m\u001b[0margs\u001b[0m\u001b[0;34m)\u001b[0m\u001b[0;34m\u001b[0m\u001b[0m\n\u001b[0m\u001b[1;32m    973\u001b[0m     \u001b[0;32mexcept\u001b[0m \u001b[0merrors\u001b[0m\u001b[0;34m.\u001b[0m\u001b[0mOpError\u001b[0m \u001b[0;32mas\u001b[0m \u001b[0me\u001b[0m\u001b[0;34m:\u001b[0m\u001b[0;34m\u001b[0m\u001b[0m\n",
      "\u001b[0;32m/Users/daniel/anaconda3/envs/tensorflow2/lib/python3.5/site-packages/tensorflow/python/client/session.py\u001b[0m in \u001b[0;36m_run_fn\u001b[0;34m(session, feed_dict, fetch_list, target_list, options, run_metadata)\u001b[0m\n\u001b[1;32m    953\u001b[0m                                  \u001b[0mfeed_dict\u001b[0m\u001b[0;34m,\u001b[0m \u001b[0mfetch_list\u001b[0m\u001b[0;34m,\u001b[0m \u001b[0mtarget_list\u001b[0m\u001b[0;34m,\u001b[0m\u001b[0;34m\u001b[0m\u001b[0m\n\u001b[0;32m--> 954\u001b[0;31m                                  status, run_metadata)\n\u001b[0m\u001b[1;32m    955\u001b[0m \u001b[0;34m\u001b[0m\u001b[0m\n",
      "\u001b[0;32m/Users/daniel/anaconda3/envs/tensorflow2/lib/python3.5/contextlib.py\u001b[0m in \u001b[0;36m__exit__\u001b[0;34m(self, type, value, traceback)\u001b[0m\n\u001b[1;32m     65\u001b[0m             \u001b[0;32mtry\u001b[0m\u001b[0;34m:\u001b[0m\u001b[0;34m\u001b[0m\u001b[0m\n\u001b[0;32m---> 66\u001b[0;31m                 \u001b[0mnext\u001b[0m\u001b[0;34m(\u001b[0m\u001b[0mself\u001b[0m\u001b[0;34m.\u001b[0m\u001b[0mgen\u001b[0m\u001b[0;34m)\u001b[0m\u001b[0;34m\u001b[0m\u001b[0m\n\u001b[0m\u001b[1;32m     67\u001b[0m             \u001b[0;32mexcept\u001b[0m \u001b[0mStopIteration\u001b[0m\u001b[0;34m:\u001b[0m\u001b[0;34m\u001b[0m\u001b[0m\n",
      "\u001b[0;32m/Users/daniel/anaconda3/envs/tensorflow2/lib/python3.5/site-packages/tensorflow/python/framework/errors.py\u001b[0m in \u001b[0;36mraise_exception_on_not_ok_status\u001b[0;34m()\u001b[0m\n\u001b[1;32m    462\u001b[0m           \u001b[0mcompat\u001b[0m\u001b[0;34m.\u001b[0m\u001b[0mas_text\u001b[0m\u001b[0;34m(\u001b[0m\u001b[0mpywrap_tensorflow\u001b[0m\u001b[0;34m.\u001b[0m\u001b[0mTF_Message\u001b[0m\u001b[0;34m(\u001b[0m\u001b[0mstatus\u001b[0m\u001b[0;34m)\u001b[0m\u001b[0;34m)\u001b[0m\u001b[0;34m,\u001b[0m\u001b[0;34m\u001b[0m\u001b[0m\n\u001b[0;32m--> 463\u001b[0;31m           pywrap_tensorflow.TF_GetCode(status))\n\u001b[0m\u001b[1;32m    464\u001b[0m   \u001b[0;32mfinally\u001b[0m\u001b[0;34m:\u001b[0m\u001b[0;34m\u001b[0m\u001b[0m\n",
      "\u001b[0;31mInvalidArgumentError\u001b[0m: Name: <unknown>, Feature: label.  Data types don't match. Data type: int64Expected type: float\n\t [[Node: input_5/ParseSingleExample/ParseExample/ParseExample = ParseExample[Ndense=2, Nsparse=0, Tdense=[DT_STRING, DT_FLOAT], dense_shapes=[[], []], sparse_types=[], _device=\"/job:localhost/replica:0/task:0/cpu:0\"](input_5/ParseSingleExample/ExpandDims, input_5/ParseSingleExample/ParseExample/ParseExample/names, input_5/ParseSingleExample/ParseExample/ParseExample/dense_keys_0, input_5/ParseSingleExample/ParseExample/ParseExample/dense_keys_1, input_5/ParseSingleExample/ParseExample/Const, input_5/ParseSingleExample/ParseExample/Const_1)]]",
      "\nDuring handling of the above exception, another exception occurred:\n",
      "\u001b[0;31mInvalidArgumentError\u001b[0m                      Traceback (most recent call last)",
      "\u001b[0;32m<ipython-input-30-a45425d69b0b>\u001b[0m in \u001b[0;36m<module>\u001b[0;34m()\u001b[0m\n\u001b[1;32m     34\u001b[0m             \u001b[0;32mfor\u001b[0m \u001b[0mi\u001b[0m \u001b[0;32min\u001b[0m \u001b[0mrange\u001b[0m\u001b[0;34m(\u001b[0m\u001b[0mbatch_size\u001b[0m\u001b[0;34m)\u001b[0m\u001b[0;34m:\u001b[0m\u001b[0;34m\u001b[0m\u001b[0m\n\u001b[1;32m     35\u001b[0m                 \u001b[0;31m# Retrieve a single instance:\u001b[0m\u001b[0;34m\u001b[0m\u001b[0;34m\u001b[0m\u001b[0m\n\u001b[0;32m---> 36\u001b[0;31m                 \u001b[0mimg\u001b[0m \u001b[0;34m=\u001b[0m \u001b[0msess\u001b[0m\u001b[0;34m.\u001b[0m\u001b[0mrun\u001b[0m\u001b[0;34m(\u001b[0m\u001b[0;34m[\u001b[0m\u001b[0mimage\u001b[0m\u001b[0;34m]\u001b[0m\u001b[0;34m)\u001b[0m\u001b[0;34m\u001b[0m\u001b[0m\n\u001b[0m\u001b[1;32m     37\u001b[0m                 \u001b[0mprint\u001b[0m\u001b[0;34m(\u001b[0m\u001b[0mimg\u001b[0m\u001b[0;34m)\u001b[0m\u001b[0;34m\u001b[0m\u001b[0m\n\u001b[1;32m     38\u001b[0m         \u001b[0;31m#         if label == 0:\u001b[0m\u001b[0;34m\u001b[0m\u001b[0;34m\u001b[0m\u001b[0m\n",
      "\u001b[0;32m/Users/daniel/anaconda3/envs/tensorflow2/lib/python3.5/site-packages/tensorflow/python/client/session.py\u001b[0m in \u001b[0;36mrun\u001b[0;34m(self, fetches, feed_dict, options, run_metadata)\u001b[0m\n\u001b[1;32m    715\u001b[0m     \u001b[0;32mtry\u001b[0m\u001b[0;34m:\u001b[0m\u001b[0;34m\u001b[0m\u001b[0m\n\u001b[1;32m    716\u001b[0m       result = self._run(None, fetches, feed_dict, options_ptr,\n\u001b[0;32m--> 717\u001b[0;31m                          run_metadata_ptr)\n\u001b[0m\u001b[1;32m    718\u001b[0m       \u001b[0;32mif\u001b[0m \u001b[0mrun_metadata\u001b[0m\u001b[0;34m:\u001b[0m\u001b[0;34m\u001b[0m\u001b[0m\n\u001b[1;32m    719\u001b[0m         \u001b[0mproto_data\u001b[0m \u001b[0;34m=\u001b[0m \u001b[0mtf_session\u001b[0m\u001b[0;34m.\u001b[0m\u001b[0mTF_GetBuffer\u001b[0m\u001b[0;34m(\u001b[0m\u001b[0mrun_metadata_ptr\u001b[0m\u001b[0;34m)\u001b[0m\u001b[0;34m\u001b[0m\u001b[0m\n",
      "\u001b[0;32m/Users/daniel/anaconda3/envs/tensorflow2/lib/python3.5/site-packages/tensorflow/python/client/session.py\u001b[0m in \u001b[0;36m_run\u001b[0;34m(self, handle, fetches, feed_dict, options, run_metadata)\u001b[0m\n\u001b[1;32m    913\u001b[0m     \u001b[0;32mif\u001b[0m \u001b[0mfinal_fetches\u001b[0m \u001b[0;32mor\u001b[0m \u001b[0mfinal_targets\u001b[0m\u001b[0;34m:\u001b[0m\u001b[0;34m\u001b[0m\u001b[0m\n\u001b[1;32m    914\u001b[0m       results = self._do_run(handle, final_targets, final_fetches,\n\u001b[0;32m--> 915\u001b[0;31m                              feed_dict_string, options, run_metadata)\n\u001b[0m\u001b[1;32m    916\u001b[0m     \u001b[0;32melse\u001b[0m\u001b[0;34m:\u001b[0m\u001b[0;34m\u001b[0m\u001b[0m\n\u001b[1;32m    917\u001b[0m       \u001b[0mresults\u001b[0m \u001b[0;34m=\u001b[0m \u001b[0;34m[\u001b[0m\u001b[0;34m]\u001b[0m\u001b[0;34m\u001b[0m\u001b[0m\n",
      "\u001b[0;32m/Users/daniel/anaconda3/envs/tensorflow2/lib/python3.5/site-packages/tensorflow/python/client/session.py\u001b[0m in \u001b[0;36m_do_run\u001b[0;34m(self, handle, target_list, fetch_list, feed_dict, options, run_metadata)\u001b[0m\n\u001b[1;32m    963\u001b[0m     \u001b[0;32mif\u001b[0m \u001b[0mhandle\u001b[0m \u001b[0;32mis\u001b[0m \u001b[0;32mNone\u001b[0m\u001b[0;34m:\u001b[0m\u001b[0;34m\u001b[0m\u001b[0m\n\u001b[1;32m    964\u001b[0m       return self._do_call(_run_fn, self._session, feed_dict, fetch_list,\n\u001b[0;32m--> 965\u001b[0;31m                            target_list, options, run_metadata)\n\u001b[0m\u001b[1;32m    966\u001b[0m     \u001b[0;32melse\u001b[0m\u001b[0;34m:\u001b[0m\u001b[0;34m\u001b[0m\u001b[0m\n\u001b[1;32m    967\u001b[0m       return self._do_call(_prun_fn, self._session, handle, feed_dict,\n",
      "\u001b[0;32m/Users/daniel/anaconda3/envs/tensorflow2/lib/python3.5/site-packages/tensorflow/python/client/session.py\u001b[0m in \u001b[0;36m_do_call\u001b[0;34m(self, fn, *args)\u001b[0m\n\u001b[1;32m    983\u001b[0m         \u001b[0;32mexcept\u001b[0m \u001b[0mKeyError\u001b[0m\u001b[0;34m:\u001b[0m\u001b[0;34m\u001b[0m\u001b[0m\n\u001b[1;32m    984\u001b[0m           \u001b[0;32mpass\u001b[0m\u001b[0;34m\u001b[0m\u001b[0m\n\u001b[0;32m--> 985\u001b[0;31m       \u001b[0;32mraise\u001b[0m \u001b[0mtype\u001b[0m\u001b[0;34m(\u001b[0m\u001b[0me\u001b[0m\u001b[0;34m)\u001b[0m\u001b[0;34m(\u001b[0m\u001b[0mnode_def\u001b[0m\u001b[0;34m,\u001b[0m \u001b[0mop\u001b[0m\u001b[0;34m,\u001b[0m \u001b[0mmessage\u001b[0m\u001b[0;34m)\u001b[0m\u001b[0;34m\u001b[0m\u001b[0m\n\u001b[0m\u001b[1;32m    986\u001b[0m \u001b[0;34m\u001b[0m\u001b[0m\n\u001b[1;32m    987\u001b[0m   \u001b[0;32mdef\u001b[0m \u001b[0m_extend_graph\u001b[0m\u001b[0;34m(\u001b[0m\u001b[0mself\u001b[0m\u001b[0;34m)\u001b[0m\u001b[0;34m:\u001b[0m\u001b[0;34m\u001b[0m\u001b[0m\n",
      "\u001b[0;31mInvalidArgumentError\u001b[0m: Name: <unknown>, Feature: label.  Data types don't match. Data type: int64Expected type: float\n\t [[Node: input_5/ParseSingleExample/ParseExample/ParseExample = ParseExample[Ndense=2, Nsparse=0, Tdense=[DT_STRING, DT_FLOAT], dense_shapes=[[], []], sparse_types=[], _device=\"/job:localhost/replica:0/task:0/cpu:0\"](input_5/ParseSingleExample/ExpandDims, input_5/ParseSingleExample/ParseExample/ParseExample/names, input_5/ParseSingleExample/ParseExample/ParseExample/dense_keys_0, input_5/ParseSingleExample/ParseExample/ParseExample/dense_keys_1, input_5/ParseSingleExample/ParseExample/Const, input_5/ParseSingleExample/ParseExample/Const_1)]]\n\nCaused by op 'input_5/ParseSingleExample/ParseExample/ParseExample', defined at:\n  File \"/Users/daniel/anaconda3/envs/tensorflow2/lib/python3.5/runpy.py\", line 184, in _run_module_as_main\n    \"__main__\", mod_spec)\n  File \"/Users/daniel/anaconda3/envs/tensorflow2/lib/python3.5/runpy.py\", line 85, in _run_code\n    exec(code, run_globals)\n  File \"/Users/daniel/anaconda3/envs/tensorflow2/lib/python3.5/site-packages/ipykernel/__main__.py\", line 3, in <module>\n    app.launch_new_instance()\n  File \"/Users/daniel/anaconda3/envs/tensorflow2/lib/python3.5/site-packages/traitlets/config/application.py\", line 658, in launch_instance\n    app.start()\n  File \"/Users/daniel/anaconda3/envs/tensorflow2/lib/python3.5/site-packages/ipykernel/kernelapp.py\", line 474, in start\n    ioloop.IOLoop.instance().start()\n  File \"/Users/daniel/anaconda3/envs/tensorflow2/lib/python3.5/site-packages/zmq/eventloop/ioloop.py\", line 177, in start\n    super(ZMQIOLoop, self).start()\n  File \"/Users/daniel/anaconda3/envs/tensorflow2/lib/python3.5/site-packages/tornado/ioloop.py\", line 887, in start\n    handler_func(fd_obj, events)\n  File \"/Users/daniel/anaconda3/envs/tensorflow2/lib/python3.5/site-packages/tornado/stack_context.py\", line 275, in null_wrapper\n    return fn(*args, **kwargs)\n  File \"/Users/daniel/anaconda3/envs/tensorflow2/lib/python3.5/site-packages/zmq/eventloop/zmqstream.py\", line 440, in _handle_events\n    self._handle_recv()\n  File \"/Users/daniel/anaconda3/envs/tensorflow2/lib/python3.5/site-packages/zmq/eventloop/zmqstream.py\", line 472, in _handle_recv\n    self._run_callback(callback, msg)\n  File \"/Users/daniel/anaconda3/envs/tensorflow2/lib/python3.5/site-packages/zmq/eventloop/zmqstream.py\", line 414, in _run_callback\n    callback(*args, **kwargs)\n  File \"/Users/daniel/anaconda3/envs/tensorflow2/lib/python3.5/site-packages/tornado/stack_context.py\", line 275, in null_wrapper\n    return fn(*args, **kwargs)\n  File \"/Users/daniel/anaconda3/envs/tensorflow2/lib/python3.5/site-packages/ipykernel/kernelbase.py\", line 276, in dispatcher\n    return self.dispatch_shell(stream, msg)\n  File \"/Users/daniel/anaconda3/envs/tensorflow2/lib/python3.5/site-packages/ipykernel/kernelbase.py\", line 228, in dispatch_shell\n    handler(stream, idents, msg)\n  File \"/Users/daniel/anaconda3/envs/tensorflow2/lib/python3.5/site-packages/ipykernel/kernelbase.py\", line 390, in execute_request\n    user_expressions, allow_stdin)\n  File \"/Users/daniel/anaconda3/envs/tensorflow2/lib/python3.5/site-packages/ipykernel/ipkernel.py\", line 196, in do_execute\n    res = shell.run_cell(code, store_history=store_history, silent=silent)\n  File \"/Users/daniel/anaconda3/envs/tensorflow2/lib/python3.5/site-packages/ipykernel/zmqshell.py\", line 501, in run_cell\n    return super(ZMQInteractiveShell, self).run_cell(*args, **kwargs)\n  File \"/Users/daniel/anaconda3/envs/tensorflow2/lib/python3.5/site-packages/IPython/core/interactiveshell.py\", line 2717, in run_cell\n    interactivity=interactivity, compiler=compiler, result=result)\n  File \"/Users/daniel/anaconda3/envs/tensorflow2/lib/python3.5/site-packages/IPython/core/interactiveshell.py\", line 2821, in run_ast_nodes\n    if self.run_code(code, result):\n  File \"/Users/daniel/anaconda3/envs/tensorflow2/lib/python3.5/site-packages/IPython/core/interactiveshell.py\", line 2881, in run_code\n    exec(code_obj, self.user_global_ns, self.user_ns)\n  File \"<ipython-input-30-a45425d69b0b>\", line 11, in <module>\n    image, angle, label, img_name = read_and_decode(filename_queue)\n  File \"/Users/daniel/Dropbox/udacity_challenge2_v2/util/input.py\", line 51, in read_and_decode\n    'label': tf.FixedLenFeature([], tf.float32),\n  File \"/Users/daniel/anaconda3/envs/tensorflow2/lib/python3.5/site-packages/tensorflow/python/ops/parsing_ops.py\", line 453, in parse_single_example\n    dense_types, dense_defaults, dense_shapes, name)\n  File \"/Users/daniel/anaconda3/envs/tensorflow2/lib/python3.5/site-packages/tensorflow/python/ops/parsing_ops.py\", line 525, in _parse_single_example_raw\n    name=name)\n  File \"/Users/daniel/anaconda3/envs/tensorflow2/lib/python3.5/site-packages/tensorflow/python/ops/parsing_ops.py\", line 405, in _parse_example_raw\n    name=name)\n  File \"/Users/daniel/anaconda3/envs/tensorflow2/lib/python3.5/site-packages/tensorflow/python/ops/gen_parsing_ops.py\", line 165, in _parse_example\n    dense_shapes=dense_shapes, name=name)\n  File \"/Users/daniel/anaconda3/envs/tensorflow2/lib/python3.5/site-packages/tensorflow/python/framework/op_def_library.py\", line 749, in apply_op\n    op_def=op_def)\n  File \"/Users/daniel/anaconda3/envs/tensorflow2/lib/python3.5/site-packages/tensorflow/python/framework/ops.py\", line 2380, in create_op\n    original_op=self._default_original_op, op_def=op_def)\n  File \"/Users/daniel/anaconda3/envs/tensorflow2/lib/python3.5/site-packages/tensorflow/python/framework/ops.py\", line 1298, in __init__\n    self._traceback = _extract_stack()\n\nInvalidArgumentError (see above for traceback): Name: <unknown>, Feature: label.  Data types don't match. Data type: int64Expected type: float\n\t [[Node: input_5/ParseSingleExample/ParseExample/ParseExample = ParseExample[Ndense=2, Nsparse=0, Tdense=[DT_STRING, DT_FLOAT], dense_shapes=[[], []], sparse_types=[], _device=\"/job:localhost/replica:0/task:0/cpu:0\"](input_5/ParseSingleExample/ExpandDims, input_5/ParseSingleExample/ParseExample/ParseExample/names, input_5/ParseSingleExample/ParseExample/ParseExample/dense_keys_0, input_5/ParseSingleExample/ParseExample/ParseExample/dense_keys_1, input_5/ParseSingleExample/ParseExample/Const, input_5/ParseSingleExample/ParseExample/Const_1)]]\n"
     ]
    }
   ],
   "source": [
    "images = []\n",
    "angles = []\n",
    "\n",
    "num_epochs = None\n",
    "batch_size = 100\n",
    "one_hot_labels = False\n",
    "with tf.name_scope('input'):\n",
    "    filename_queue = tf.train.string_input_producer(\n",
    "        filenames, num_epochs=num_epochs)\n",
    "\n",
    "    image, angle, label, img_name = read_and_decode(filename_queue)\n",
    "    if one_hot_labels:\n",
    "        print(\"one_hot_labels\")\n",
    "        label = tf.one_hot(label, NUM_CLASSES, dtype=tf.int32)\n",
    "        images, sparse_labels = tf.train.shuffle_batch(\n",
    "            [image, label], batch_size=batch_size, num_threads=4,\n",
    "            capacity=1000 + 3 * batch_size,\n",
    "            # Ensures a minimum amount of shuffling of examples.\n",
    "            min_after_dequeue=1000)\n",
    "#         return images, sparse_labels\n",
    "    else:\n",
    "        print('here')\n",
    "        with tf.Session() as sess:\n",
    "            # Start populating the filename queue.\n",
    "            coord = tf.train.Coordinator()\n",
    "            threads = tf.train.start_queue_runners(coord=coord)\n",
    "\n",
    "        #     images, sparse_angles = tf.train.shuffle_batch(\n",
    "        #         [image, angle], batch_size=batch_size, num_threads=4,\n",
    "        #         capacity=1000 + 3 * batch_size,\n",
    "        #         # Ensures a minimum amount of shuffling of examples.\n",
    "        #         min_after_dequeue=1000)\n",
    "\n",
    "            for i in range(batch_size):\n",
    "                # Retrieve a single instance:\n",
    "                img = sess.run([image])\n",
    "                print(img)\n",
    "        #         if label == 0:\n",
    "\n",
    "        #             if angle < -0.03966:\n",
    "        #                 images.append(img)\n",
    "        #                 angles.append(ang)\n",
    "        #         elif label == 1:\n",
    "        #             if -0.03966 <= ang and ang < -0.00698:\n",
    "        #                 images.append(img)\n",
    "        #                 angles.append(ang)\n",
    "        #         elif label == 2:\n",
    "        #             if -0.00698 <= ang and ang < 0.01266:\n",
    "        #                 images.append(img)\n",
    "        #                 angles.append(ang)\n",
    "        #         elif label == 3:\n",
    "        #             if 0.01266 <= ang and ang < 0.04189:\n",
    "        #                 images.append(img)\n",
    "        #                 angles.append(ang)\n",
    "        #         elif label == 4:\n",
    "        #             if 0.04189 <= ang:\n",
    "        #                 images.append(img)\n",
    "        #                 angles.append(ang)\n",
    "\n",
    "            coord.request_stop()\n",
    "            coord.join(threads)"
   ]
  },
  {
   "cell_type": "code",
   "execution_count": 18,
   "metadata": {
    "collapsed": false
   },
   "outputs": [
    {
     "data": {
      "text/plain": [
       "<tf.Tensor 'shuffle_batch:0' shape=(100, 60, 80, 3) dtype=float32>"
      ]
     },
     "execution_count": 18,
     "metadata": {},
     "output_type": "execute_result"
    }
   ],
   "source": [
    "images"
   ]
  },
  {
   "cell_type": "code",
   "execution_count": 7,
   "metadata": {
    "collapsed": false
   },
   "outputs": [
    {
     "ename": "NameError",
     "evalue": "name 'filename_queue' is not defined",
     "output_type": "error",
     "traceback": [
      "\u001b[0;31m---------------------------------------------------------------------------\u001b[0m",
      "\u001b[0;31mNameError\u001b[0m                                 Traceback (most recent call last)",
      "\u001b[0;32m<ipython-input-7-cb66c136109a>\u001b[0m in \u001b[0;36m<module>\u001b[0;34m()\u001b[0m\n\u001b[0;32m----> 1\u001b[0;31m \u001b[0mimage\u001b[0m\u001b[0;34m,\u001b[0m \u001b[0mangle\u001b[0m\u001b[0;34m,\u001b[0m \u001b[0mlabel\u001b[0m\u001b[0;34m,\u001b[0m \u001b[0mimg_name\u001b[0m \u001b[0;34m=\u001b[0m \u001b[0mread_and_decode\u001b[0m\u001b[0;34m(\u001b[0m\u001b[0mfilename_queue\u001b[0m\u001b[0;34m)\u001b[0m\u001b[0;34m\u001b[0m\u001b[0m\n\u001b[0m",
      "\u001b[0;31mNameError\u001b[0m: name 'filename_queue' is not defined"
     ]
    }
   ],
   "source": [
    "image, angle, label, img_name = read_and_decode(filename_queue)"
   ]
  },
  {
   "cell_type": "code",
   "execution_count": null,
   "metadata": {
    "collapsed": true
   },
   "outputs": [],
   "source": [
    "images, angles = inputs(train_dir, True, batch_size, num_batches, label, one_hot_labels=False)   "
   ]
  }
 ],
 "metadata": {
  "anaconda-cloud": {},
  "kernelspec": {
   "display_name": "Python [conda env:tensorflow2]",
   "language": "python",
   "name": "conda-env-tensorflow2-py"
  },
  "language_info": {
   "codemirror_mode": {
    "name": "ipython",
    "version": 3
   },
   "file_extension": ".py",
   "mimetype": "text/x-python",
   "name": "python",
   "nbconvert_exporter": "python",
   "pygments_lexer": "ipython3",
   "version": "3.5.2"
  }
 },
 "nbformat": 4,
 "nbformat_minor": 1
}
