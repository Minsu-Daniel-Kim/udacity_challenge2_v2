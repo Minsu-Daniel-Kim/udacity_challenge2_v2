{
 "cells": [
  {
   "cell_type": "code",
   "execution_count": 1,
   "metadata": {
    "collapsed": true
   },
   "outputs": [],
   "source": [
    "import shutil\n",
    "import os\n",
    "import argparse\n",
    "import numpy as np\n"
   ]
  },
  {
   "cell_type": "code",
   "execution_count": 2,
   "metadata": {
    "collapsed": true
   },
   "outputs": [],
   "source": [
    "\n",
    "path = \"/Volumes/My_Passport_Air/udacity-datasetElCamino/center\"\n",
    "processed_pickles = np.array([int(item.split(\".\")[0]) for item in os.listdir(path) if item.endswith(\".png\")])\n",
    "processed_pickles.sort()\n",
    "\n",
    "\n"
   ]
  },
  {
   "cell_type": "code",
   "execution_count": 38,
   "metadata": {
    "collapsed": false
   },
   "outputs": [],
   "source": [
    "tmp = processed_pickles[(processed_pickles >= 1476996938563641660) & (processed_pickles <= 1476996938813695431)]"
   ]
  },
  {
   "cell_type": "code",
   "execution_count": 39,
   "metadata": {
    "collapsed": false
   },
   "outputs": [
    {
     "name": "stdout",
     "output_type": "stream",
     "text": [
      "1476996938563641660\n",
      "1476996938613648358\n",
      "1476996938663666709\n",
      "1476996938713668922\n",
      "1476996938763667724\n",
      "1476996938813695431\n"
     ]
    }
   ],
   "source": [
    "for a in tmp:\n",
    "    print(a)"
   ]
  },
  {
   "cell_type": "code",
   "execution_count": null,
   "metadata": {
    "collapsed": true
   },
   "outputs": [],
   "source": [
    "def d(self, start, end):\n",
    "\n",
    "    to_be_removed = processed_pickles[(processed_pickles >= start) & (processed_pickles <= end)]\n",
    "    \n",
    "    for item in to_be_removed:\n",
    "        os.remove(path + '/' + item + '.png')\n"
   ]
  }
 ],
 "metadata": {
  "anaconda-cloud": {},
  "kernelspec": {
   "display_name": "Python [conda env:tensorflow2]",
   "language": "python",
   "name": "conda-env-tensorflow2-py"
  },
  "language_info": {
   "codemirror_mode": {
    "name": "ipython",
    "version": 3
   },
   "file_extension": ".py",
   "mimetype": "text/x-python",
   "name": "python",
   "nbconvert_exporter": "python",
   "pygments_lexer": "ipython3",
   "version": "3.5.2"
  }
 },
 "nbformat": 4,
 "nbformat_minor": 1
}
