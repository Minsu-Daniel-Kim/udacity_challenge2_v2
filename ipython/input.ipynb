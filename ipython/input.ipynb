{
 "cells": [
  {
   "cell_type": "code",
   "execution_count": 89,
   "metadata": {
    "collapsed": false
   },
   "outputs": [],
   "source": [
    "import itertools\n",
    "import numpy as np\n",
    "import os\n",
    "data_dir = \"../data\"\n",
    "def aggre_dataset(direction, dataset, dataset_subset = 'all'):\n",
    "    # direction = ['left', 'center', 'right']\n",
    "    # dataset = ['original', 'flip', 'contrast', 'flip_contrast']\n",
    "    # dataset_subset = 'all' or ['train','val']\n",
    "    train_lst = []\n",
    "    test_lst = []\n",
    "    validation_lst = []\n",
    "    \n",
    "    def get_subset_lst(subset):\n",
    "        subste_list = []\n",
    "        for a, b in list(itertools.product(direction, dataset)):\n",
    "     \n",
    "            try:\n",
    "                dir = data_dir + \"/%s/%s\" % (a, b)\n",
    "                train = [dir + \"/\" + file for file in os.listdir(dir) if subset in file]\n",
    "                subste_list += train\n",
    "            except:\n",
    "                pass\n",
    "        return [subset, subste_list]\n",
    "    \n",
    "    train_lst = np.array(train_lst)\n",
    "    test_lst = np.array(test_lst)\n",
    "    validation_lst = np.array(validation_lst)\n",
    "\n",
    "    \n",
    "    if dataset_subset is 'all':\n",
    "        dataset_subset = ['train', 'test', 'validation']\n",
    "\n",
    "    total_list = {}\n",
    "    for subset in dataset_subset:\n",
    "\n",
    "        total_list[get_subset_lst(subset)[0]] = get_subset_lst(subset)[1]        \n",
    "\n",
    "    return total_list\n",
    "    \n",
    "    "
   ]
  },
  {
   "cell_type": "code",
   "execution_count": 90,
   "metadata": {
    "collapsed": false
   },
   "outputs": [
    {
     "data": {
      "text/plain": [
       "[['../data/center/original/train_0.tfrecords',\n",
       "  '../data/center/original/train_1.tfrecords',\n",
       "  '../data/center/flip/train_0.tfrecords',\n",
       "  '../data/center/flip/train_1.tfrecords'],\n",
       " []]"
      ]
     },
     "execution_count": 90,
     "metadata": {},
     "output_type": "execute_result"
    }
   ],
   "source": [
    "aggre_dataset(['left', 'center', 'right'], ['original', 'flip', 'contrast', 'flip_contrast'],  ['train', 'test'])"
   ]
  },
  {
   "cell_type": "code",
   "execution_count": null,
   "metadata": {
    "collapsed": true
   },
   "outputs": [],
   "source": []
  }
 ],
 "metadata": {
  "anaconda-cloud": {},
  "kernelspec": {
   "display_name": "Python [conda env:tensorflow2]",
   "language": "python",
   "name": "conda-env-tensorflow2-py"
  },
  "language_info": {
   "codemirror_mode": {
    "name": "ipython",
    "version": 3
   },
   "file_extension": ".py",
   "mimetype": "text/x-python",
   "name": "python",
   "nbconvert_exporter": "python",
   "pygments_lexer": "ipython3",
   "version": "3.5.2"
  }
 },
 "nbformat": 4,
 "nbformat_minor": 1
}
